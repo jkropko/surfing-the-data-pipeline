{
 "cells": [
  {
   "cell_type": "markdown",
   "id": "2a171a2a-cf27-4c2e-96fa-b72dce449596",
   "metadata": {},
   "source": [
    "# Version Control, Virtual Environments, and Containers"
   ]
  },
  {
   "cell_type": "markdown",
   "id": "aefd16ac-4e34-4e8a-8a51-6291a586abe2",
   "metadata": {},
   "source": [
    "```{contents} Table of Contents\n",
    ":depth: 4\n",
    "```"
   ]
  },
  {
   "cell_type": "markdown",
   "id": "adfe7ea7-cff3-44cf-a2a1-bc716c359450",
   "metadata": {},
   "source": [
    "## Introduction\n",
    "make code independent of system"
   ]
  },
  {
   "cell_type": "markdown",
   "id": "97fb256c-3199-410c-ad11-ecf887511a15",
   "metadata": {},
   "source": [
    "## Git and GitHub\n",
    "Git is the most widely used system for version control.\n",
    "\n",
    "share\n",
    "\n",
    "\n",
    "\n",
    "1. Create a GitHub repository for your project (you only need to do this once)\n",
    "\n",
    "Go to https://github.com/ and sign up for an account if you haven't already done so, otherwise sign in. On your home page click the green button labeled New next to Recent Repositories. Then fill out the form in the following way:\n",
    "\n",
    "* Don't select a template.\n",
    "\n",
    "* Choose a repository name carefully. It must be unique from any other repository you create. But it is also the public facing name of your software. Make it short but memorable, the ways packages like pandas and numpy have been named.\n",
    "\n",
    "* Add a description if you want. It will help other people to understand what they are looking at, and it will be an essential step for you if you want this GitHub repo to be part of your professional portfolio. If not now, you can always add one later.\n",
    "\n",
    "* Make the repository public. In general, make your repos public, even if they are under development. The only time you want to make the repository private is if you are working on proprietary software or on code that requires extra steps to ensure privacy (such as work with student or patient data).\n",
    "\n",
    "* Initialize the repository with a README.md file. The README will provide the user-facing text that appears on the front page of the repository. We will develop the README file together later this semester.\n",
    "\n",
    "* Licenses tell users what rights they have when using your software. By default, they have no rights to use your software as you hold the copywrite automatically. But we are in an open source world and we want users, so it's a good idea to choose a license. It can be very confusing to know which license to choose, so use a tool like https://choosealicense.com/ to make a selection.\n",
    "\n",
    "* Then click Create Repository.\n",
    "\n",
    "2. Choose a location on your local computer for the files associated with the project, and use git clone (you only need to do this once)\n",
    "\n",
    "Do not create a specific project folder. Instead, use a terminal to navigate to the location on your computer where you would like the project folder to exist. Then type\n",
    "git clone https://github.com/jkropko/contrans\n",
    "\n",
    "Change the username and repository name to your GitHub and repo names. This command does two things. First, it downloads the entire GitHub repository to your computer in an automatically generated project folder with the same name as your repo. Second it creates a connection between this folder on your local machine and your repository on GitHub that you can activate with the git pull and git push commands (we'll talk about that below).\n",
    "\n",
    "You only need to do this once. After using git clone to create a folder, then anytime you use git commands to conduct version control, the folder is still connected to the GitHub repo even after closing your programs or restarting your computer.\n",
    "\n",
    "3. Use git pull to download the latest version of the files in the repository\n",
    "\n",
    "After creating the repository and cloning it to a local folder, a standard data science workflow begins by using the terminal to navigate to the project folder, then typing\n",
    "cd contrans\n",
    "git pull origin main\n",
    "\n",
    "First, navigate inside the folder that the git clone command previously created. The word \"origin\" within git pull refers to your GitHub repository (or wherever the git clone command was instructed to originally told to download the code from). The word \"main\" refers to your local project folder. A couple side notes about \"main\":\n",
    "\n",
    "    An advanced use of GitHub uses something called branches in which you can create a copy of the code to build out a specific extension before merging it back in with the main code. In this case, you would supply the name of the branch here instead of main. Branching is important when working collaboratively as part of a software development team, but we won't cover that practice here.\n",
    "    Until very recently, the default name for the main branch of a git repository was \"master\". The tech community collectively decided to switch this word to \"main\" due to the connotations to slavery. It's part of a larger effort to strike the words \"master\" and \"slave\" from tech jargon. So you might see the word \"master\" in documentation and in older code examples. You can read more about this change here: https://www.wired.com/story/tech-confronts-use-labels-master-slave/\n",
    "\n",
    "If you are working by yourself on one computer, then using the git pull command will probably simply show you a message that your local repository is up to date with the GitHub repository. Still, it is best practice to habitually start by using the git pull command. If you are working on multiple devices or as part of a team, git pull brings the most current code into your local installation."
   ]
  },
  {
   "cell_type": "code",
   "execution_count": null,
   "id": "86c44cd1-117f-4b68-934d-378ecc6be2fc",
   "metadata": {},
   "outputs": [],
   "source": []
  }
 ],
 "metadata": {
  "kernelspec": {
   "display_name": "Python 3 (ipykernel)",
   "language": "python",
   "name": "python3"
  },
  "language_info": {
   "codemirror_mode": {
    "name": "ipython",
    "version": 3
   },
   "file_extension": ".py",
   "mimetype": "text/x-python",
   "name": "python",
   "nbconvert_exporter": "python",
   "pygments_lexer": "ipython3",
   "version": "3.12.5"
  }
 },
 "nbformat": 4,
 "nbformat_minor": 5
}