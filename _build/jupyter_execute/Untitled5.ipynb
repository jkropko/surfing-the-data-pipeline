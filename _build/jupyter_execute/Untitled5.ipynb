{
 "cells": [
  {
   "cell_type": "markdown",
   "id": "83df3f01-ffca-469f-b705-39941404ea12",
   "metadata": {},
   "source": [
    "## Programming the Collatz Conjecture in Python\n",
    "Goals:\n",
    "1. Write a function to output x/2 if x is even, 3x+1 if x is odd.\n",
    "2. Create a while loop that terminates when x is 1\n",
    "3. Measure number of steps and max for any given x\n",
    "4. Place x, number of steps, and max into a dictionary, then append to a dataframe\n",
    "5. Repeat for 1 through 100\n",
    "\n",
    "REAL GOAL: to demonstrate how to solve issues as they arise when working through a Python problem."
   ]
  },
  {
   "cell_type": "markdown",
   "id": "f2ac3e6f-dded-4b55-bc1d-8601907ccf65",
   "metadata": {},
   "source": [
    "### Write a function to output x/2 if x is even, 3x+1 if x is odd.\n",
    "* Problem 1: what's modulus in Python?\n",
    "* Problem 2: use one = instead of two ==, get an error\n",
    "* Problem 3: how to make this output an integer"
   ]
  },
  {
   "cell_type": "code",
   "execution_count": 1,
   "id": "9c80c52e-9a49-4e23-8670-639f2df93487",
   "metadata": {},
   "outputs": [],
   "source": [
    "def onestep(x):\n",
    "    if (x % 2)==1:\n",
    "        return int(3*x + 1)\n",
    "    if (x % 2)==0:\n",
    "        return int(x/2)"
   ]
  },
  {
   "cell_type": "code",
   "execution_count": 2,
   "id": "9ed351f5-cae1-4af5-b1f9-709a659fa345",
   "metadata": {},
   "outputs": [
    {
     "data": {
      "text/plain": [
       "4"
      ]
     },
     "execution_count": 2,
     "metadata": {},
     "output_type": "execute_result"
    }
   ],
   "source": [
    "onestep(8)"
   ]
  },
  {
   "cell_type": "markdown",
   "id": "1b810b41-7cad-40e1-bd23-81f12cd17b5e",
   "metadata": {},
   "source": [
    "### Create a while loop that terminates when x is 1"
   ]
  },
  {
   "cell_type": "code",
   "execution_count": 3,
   "id": "9ae1db08-7554-4997-9707-9177d915297d",
   "metadata": {},
   "outputs": [],
   "source": [
    "def allsteps(x):\n",
    "    while x != 1:\n",
    "        x = onestep(x)\n",
    "        print(x)"
   ]
  },
  {
   "cell_type": "code",
   "execution_count": 4,
   "id": "463e55b8-c583-42e6-8a6b-1e34b446541f",
   "metadata": {},
   "outputs": [
    {
     "name": "stdout",
     "output_type": "stream",
     "text": [
      "52\n",
      "26\n",
      "13\n",
      "40\n",
      "20\n",
      "10\n",
      "5\n",
      "16\n",
      "8\n",
      "4\n",
      "2\n",
      "1\n"
     ]
    }
   ],
   "source": [
    "allsteps(17)"
   ]
  },
  {
   "cell_type": "markdown",
   "id": "e7d8e8bf-1735-44b1-83f4-1dc5232dc99e",
   "metadata": {},
   "source": [
    "### Measure number of steps and max for any given x\n",
    "help with max function"
   ]
  },
  {
   "cell_type": "code",
   "execution_count": 5,
   "id": "05279479-7b3f-4fb9-9a15-afea1dfb0b8e",
   "metadata": {},
   "outputs": [],
   "source": [
    "def allsteps(x):\n",
    "    i = 1\n",
    "    m = 1\n",
    "    while x != 1:\n",
    "        m = max([m, x])\n",
    "        x = onestep(x)\n",
    "        i += 1\n",
    "        return [i, m]"
   ]
  },
  {
   "cell_type": "code",
   "execution_count": 6,
   "id": "ef6b072b-5bc1-4e15-8781-91ef9ec9184e",
   "metadata": {},
   "outputs": [
    {
     "data": {
      "text/plain": [
       "[2, 17]"
      ]
     },
     "execution_count": 6,
     "metadata": {},
     "output_type": "execute_result"
    }
   ],
   "source": [
    "allsteps(17)"
   ]
  },
  {
   "cell_type": "code",
   "execution_count": 7,
   "id": "14ec6d31-41c5-4bb3-8847-23a965a605c4",
   "metadata": {},
   "outputs": [],
   "source": [
    "def allsteps(x):\n",
    "    i = 1\n",
    "    m = 1\n",
    "    while x != 1:\n",
    "        m = max([m, x])\n",
    "        x = onestep(x)\n",
    "        i += 1\n",
    "    return [i, m]"
   ]
  }
 ],
 "metadata": {
  "kernelspec": {
   "display_name": "Python 3 (ipykernel)",
   "language": "python",
   "name": "python3"
  },
  "language_info": {
   "codemirror_mode": {
    "name": "ipython",
    "version": 3
   },
   "file_extension": ".py",
   "mimetype": "text/x-python",
   "name": "python",
   "nbconvert_exporter": "python",
   "pygments_lexer": "ipython3",
   "version": "3.12.5"
  }
 },
 "nbformat": 4,
 "nbformat_minor": 5
}